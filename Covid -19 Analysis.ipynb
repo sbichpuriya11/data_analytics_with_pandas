{
 "cells": [
  {
   "cell_type": "code",
   "execution_count": 1,
   "metadata": {},
   "outputs": [],
   "source": [
    "import pandas as pd\n",
    "import numpy as np\n",
    "import matplotlib.pyplot as plt"
   ]
  },
  {
   "cell_type": "code",
   "execution_count": 2,
   "metadata": {},
   "outputs": [
    {
     "data": {
      "text/html": [
       "<style>\n",
       "    table.dataframe td,table.dataframe th{\n",
       "        border:1px solid black;\n",
       "        background-color:white;\n",
       "    }\n",
       "</style>\n"
      ],
      "text/plain": [
       "<IPython.core.display.HTML object>"
      ]
     },
     "metadata": {},
     "output_type": "display_data"
    }
   ],
   "source": [
    "%%html\n",
    "<style>\n",
    "    table.dataframe td,table.dataframe th{\n",
    "        border:1px solid black;\n",
    "        background-color:white;\n",
    "    }\n",
    "</style>"
   ]
  },
  {
   "cell_type": "code",
   "execution_count": 3,
   "metadata": {},
   "outputs": [],
   "source": [
    "df = pd.read_csv('covid19_italy_region.csv')"
   ]
  },
  {
   "cell_type": "code",
   "execution_count": 4,
   "metadata": {},
   "outputs": [
    {
     "data": {
      "text/html": [
       "<div>\n",
       "<style scoped>\n",
       "    .dataframe tbody tr th:only-of-type {\n",
       "        vertical-align: middle;\n",
       "    }\n",
       "\n",
       "    .dataframe tbody tr th {\n",
       "        vertical-align: top;\n",
       "    }\n",
       "\n",
       "    .dataframe thead th {\n",
       "        text-align: right;\n",
       "    }\n",
       "</style>\n",
       "<table border=\"1\" class=\"dataframe\">\n",
       "  <thead>\n",
       "    <tr style=\"text-align: right;\">\n",
       "      <th></th>\n",
       "      <th>SNo</th>\n",
       "      <th>Date</th>\n",
       "      <th>Country</th>\n",
       "      <th>RegionCode</th>\n",
       "      <th>RegionName</th>\n",
       "      <th>Latitude</th>\n",
       "      <th>Longitude</th>\n",
       "      <th>HospitalizedPatients</th>\n",
       "      <th>IntensiveCarePatients</th>\n",
       "      <th>TotalHospitalizedPatients</th>\n",
       "      <th>HomeConfinement</th>\n",
       "      <th>CurrentPositiveCases</th>\n",
       "      <th>NewPositiveCases</th>\n",
       "      <th>Recovered</th>\n",
       "      <th>Deaths</th>\n",
       "      <th>TotalPositiveCases</th>\n",
       "      <th>TestsPerformed</th>\n",
       "    </tr>\n",
       "  </thead>\n",
       "  <tbody>\n",
       "    <tr>\n",
       "      <th>0</th>\n",
       "      <td>0</td>\n",
       "      <td>2020-02-24T18:00:00</td>\n",
       "      <td>ITA</td>\n",
       "      <td>13</td>\n",
       "      <td>Abruzzo</td>\n",
       "      <td>42.351222</td>\n",
       "      <td>13.398438</td>\n",
       "      <td>0</td>\n",
       "      <td>0</td>\n",
       "      <td>0</td>\n",
       "      <td>0</td>\n",
       "      <td>0</td>\n",
       "      <td>0</td>\n",
       "      <td>0</td>\n",
       "      <td>0</td>\n",
       "      <td>0</td>\n",
       "      <td>NaN</td>\n",
       "    </tr>\n",
       "    <tr>\n",
       "      <th>1</th>\n",
       "      <td>1</td>\n",
       "      <td>2020-02-24T18:00:00</td>\n",
       "      <td>ITA</td>\n",
       "      <td>17</td>\n",
       "      <td>Basilicata</td>\n",
       "      <td>40.639471</td>\n",
       "      <td>15.805148</td>\n",
       "      <td>0</td>\n",
       "      <td>0</td>\n",
       "      <td>0</td>\n",
       "      <td>0</td>\n",
       "      <td>0</td>\n",
       "      <td>0</td>\n",
       "      <td>0</td>\n",
       "      <td>0</td>\n",
       "      <td>0</td>\n",
       "      <td>NaN</td>\n",
       "    </tr>\n",
       "    <tr>\n",
       "      <th>2</th>\n",
       "      <td>2</td>\n",
       "      <td>2020-02-24T18:00:00</td>\n",
       "      <td>ITA</td>\n",
       "      <td>18</td>\n",
       "      <td>Calabria</td>\n",
       "      <td>38.905976</td>\n",
       "      <td>16.594402</td>\n",
       "      <td>0</td>\n",
       "      <td>0</td>\n",
       "      <td>0</td>\n",
       "      <td>0</td>\n",
       "      <td>0</td>\n",
       "      <td>0</td>\n",
       "      <td>0</td>\n",
       "      <td>0</td>\n",
       "      <td>0</td>\n",
       "      <td>NaN</td>\n",
       "    </tr>\n",
       "    <tr>\n",
       "      <th>3</th>\n",
       "      <td>3</td>\n",
       "      <td>2020-02-24T18:00:00</td>\n",
       "      <td>ITA</td>\n",
       "      <td>15</td>\n",
       "      <td>Campania</td>\n",
       "      <td>40.839566</td>\n",
       "      <td>14.250850</td>\n",
       "      <td>0</td>\n",
       "      <td>0</td>\n",
       "      <td>0</td>\n",
       "      <td>0</td>\n",
       "      <td>0</td>\n",
       "      <td>0</td>\n",
       "      <td>0</td>\n",
       "      <td>0</td>\n",
       "      <td>0</td>\n",
       "      <td>NaN</td>\n",
       "    </tr>\n",
       "    <tr>\n",
       "      <th>4</th>\n",
       "      <td>4</td>\n",
       "      <td>2020-02-24T18:00:00</td>\n",
       "      <td>ITA</td>\n",
       "      <td>8</td>\n",
       "      <td>Emilia-Romagna</td>\n",
       "      <td>44.494367</td>\n",
       "      <td>11.341721</td>\n",
       "      <td>10</td>\n",
       "      <td>2</td>\n",
       "      <td>12</td>\n",
       "      <td>6</td>\n",
       "      <td>18</td>\n",
       "      <td>18</td>\n",
       "      <td>0</td>\n",
       "      <td>0</td>\n",
       "      <td>18</td>\n",
       "      <td>NaN</td>\n",
       "    </tr>\n",
       "  </tbody>\n",
       "</table>\n",
       "</div>"
      ],
      "text/plain": [
       "   SNo                 Date Country  RegionCode      RegionName   Latitude  \\\n",
       "0    0  2020-02-24T18:00:00     ITA          13         Abruzzo  42.351222   \n",
       "1    1  2020-02-24T18:00:00     ITA          17      Basilicata  40.639471   \n",
       "2    2  2020-02-24T18:00:00     ITA          18        Calabria  38.905976   \n",
       "3    3  2020-02-24T18:00:00     ITA          15        Campania  40.839566   \n",
       "4    4  2020-02-24T18:00:00     ITA           8  Emilia-Romagna  44.494367   \n",
       "\n",
       "   Longitude  HospitalizedPatients  IntensiveCarePatients  \\\n",
       "0  13.398438                     0                      0   \n",
       "1  15.805148                     0                      0   \n",
       "2  16.594402                     0                      0   \n",
       "3  14.250850                     0                      0   \n",
       "4  11.341721                    10                      2   \n",
       "\n",
       "   TotalHospitalizedPatients  HomeConfinement  CurrentPositiveCases  \\\n",
       "0                          0                0                     0   \n",
       "1                          0                0                     0   \n",
       "2                          0                0                     0   \n",
       "3                          0                0                     0   \n",
       "4                         12                6                    18   \n",
       "\n",
       "   NewPositiveCases  Recovered  Deaths  TotalPositiveCases  TestsPerformed  \n",
       "0                 0          0       0                   0             NaN  \n",
       "1                 0          0       0                   0             NaN  \n",
       "2                 0          0       0                   0             NaN  \n",
       "3                 0          0       0                   0             NaN  \n",
       "4                18          0       0                  18             NaN  "
      ]
     },
     "execution_count": 4,
     "metadata": {},
     "output_type": "execute_result"
    }
   ],
   "source": [
    "df.head()"
   ]
  },
  {
   "cell_type": "code",
   "execution_count": 5,
   "metadata": {},
   "outputs": [
    {
     "data": {
      "text/plain": [
       "Index(['SNo', 'Date', 'Country', 'RegionCode', 'RegionName', 'Latitude',\n",
       "       'Longitude', 'HospitalizedPatients', 'IntensiveCarePatients',\n",
       "       'TotalHospitalizedPatients', 'HomeConfinement', 'CurrentPositiveCases',\n",
       "       'NewPositiveCases', 'Recovered', 'Deaths', 'TotalPositiveCases',\n",
       "       'TestsPerformed'],\n",
       "      dtype='object')"
      ]
     },
     "execution_count": 5,
     "metadata": {},
     "output_type": "execute_result"
    }
   ],
   "source": [
    "df.columns"
   ]
  },
  {
   "cell_type": "code",
   "execution_count": 6,
   "metadata": {},
   "outputs": [
    {
     "name": "stdout",
     "output_type": "stream",
     "text": [
      "<class 'pandas.core.frame.DataFrame'>\n",
      "RangeIndex: 6027 entries, 0 to 6026\n",
      "Data columns (total 17 columns):\n",
      " #   Column                     Non-Null Count  Dtype  \n",
      "---  ------                     --------------  -----  \n",
      " 0   SNo                        6027 non-null   int64  \n",
      " 1   Date                       6027 non-null   object \n",
      " 2   Country                    6027 non-null   object \n",
      " 3   RegionCode                 6027 non-null   int64  \n",
      " 4   RegionName                 6027 non-null   object \n",
      " 5   Latitude                   6027 non-null   float64\n",
      " 6   Longitude                  6027 non-null   float64\n",
      " 7   HospitalizedPatients       6027 non-null   int64  \n",
      " 8   IntensiveCarePatients      6027 non-null   int64  \n",
      " 9   TotalHospitalizedPatients  6027 non-null   int64  \n",
      " 10  HomeConfinement            6027 non-null   int64  \n",
      " 11  CurrentPositiveCases       6027 non-null   int64  \n",
      " 12  NewPositiveCases           6027 non-null   int64  \n",
      " 13  Recovered                  6027 non-null   int64  \n",
      " 14  Deaths                     6027 non-null   int64  \n",
      " 15  TotalPositiveCases         6027 non-null   int64  \n",
      " 16  TestsPerformed             4872 non-null   float64\n",
      "dtypes: float64(3), int64(11), object(3)\n",
      "memory usage: 800.6+ KB\n"
     ]
    }
   ],
   "source": [
    "df.info()"
   ]
  },
  {
   "cell_type": "code",
   "execution_count": 7,
   "metadata": {},
   "outputs": [
    {
     "data": {
      "text/html": [
       "<div>\n",
       "<style scoped>\n",
       "    .dataframe tbody tr th:only-of-type {\n",
       "        vertical-align: middle;\n",
       "    }\n",
       "\n",
       "    .dataframe tbody tr th {\n",
       "        vertical-align: top;\n",
       "    }\n",
       "\n",
       "    .dataframe thead th {\n",
       "        text-align: right;\n",
       "    }\n",
       "</style>\n",
       "<table border=\"1\" class=\"dataframe\">\n",
       "  <thead>\n",
       "    <tr style=\"text-align: right;\">\n",
       "      <th></th>\n",
       "      <th>SNo</th>\n",
       "      <th>RegionCode</th>\n",
       "      <th>Latitude</th>\n",
       "      <th>Longitude</th>\n",
       "      <th>HospitalizedPatients</th>\n",
       "      <th>IntensiveCarePatients</th>\n",
       "      <th>TotalHospitalizedPatients</th>\n",
       "      <th>HomeConfinement</th>\n",
       "      <th>CurrentPositiveCases</th>\n",
       "      <th>NewPositiveCases</th>\n",
       "      <th>Recovered</th>\n",
       "      <th>Deaths</th>\n",
       "      <th>TotalPositiveCases</th>\n",
       "      <th>TestsPerformed</th>\n",
       "    </tr>\n",
       "  </thead>\n",
       "  <tbody>\n",
       "    <tr>\n",
       "      <th>count</th>\n",
       "      <td>6027.000000</td>\n",
       "      <td>6027.000000</td>\n",
       "      <td>6027.000000</td>\n",
       "      <td>6027.000000</td>\n",
       "      <td>6027.000000</td>\n",
       "      <td>6027.000000</td>\n",
       "      <td>6027.000000</td>\n",
       "      <td>6027.000000</td>\n",
       "      <td>6027.000000</td>\n",
       "      <td>6027.000000</td>\n",
       "      <td>6027.000000</td>\n",
       "      <td>6027.000000</td>\n",
       "      <td>6027.00000</td>\n",
       "      <td>4.872000e+03</td>\n",
       "    </tr>\n",
       "    <tr>\n",
       "      <th>mean</th>\n",
       "      <td>3013.000000</td>\n",
       "      <td>11.857143</td>\n",
       "      <td>43.046293</td>\n",
       "      <td>12.225955</td>\n",
       "      <td>509.093579</td>\n",
       "      <td>55.892318</td>\n",
       "      <td>564.985897</td>\n",
       "      <td>5722.911399</td>\n",
       "      <td>6287.897296</td>\n",
       "      <td>286.885847</td>\n",
       "      <td>9337.852829</td>\n",
       "      <td>1474.370665</td>\n",
       "      <td>17100.12361</td>\n",
       "      <td>2.600810e+05</td>\n",
       "    </tr>\n",
       "    <tr>\n",
       "      <th>std</th>\n",
       "      <td>1739.989368</td>\n",
       "      <td>6.274319</td>\n",
       "      <td>2.488987</td>\n",
       "      <td>2.659168</td>\n",
       "      <td>1272.731157</td>\n",
       "      <td>134.957979</td>\n",
       "      <td>1403.362341</td>\n",
       "      <td>15892.768789</td>\n",
       "      <td>16804.884786</td>\n",
       "      <td>818.450458</td>\n",
       "      <td>20551.265039</td>\n",
       "      <td>3365.190225</td>\n",
       "      <td>36934.67627</td>\n",
       "      <td>3.339818e+05</td>\n",
       "    </tr>\n",
       "    <tr>\n",
       "      <th>min</th>\n",
       "      <td>0.000000</td>\n",
       "      <td>1.000000</td>\n",
       "      <td>38.115697</td>\n",
       "      <td>7.320149</td>\n",
       "      <td>0.000000</td>\n",
       "      <td>0.000000</td>\n",
       "      <td>0.000000</td>\n",
       "      <td>0.000000</td>\n",
       "      <td>0.000000</td>\n",
       "      <td>-229.000000</td>\n",
       "      <td>0.000000</td>\n",
       "      <td>0.000000</td>\n",
       "      <td>0.00000</td>\n",
       "      <td>3.482000e+03</td>\n",
       "    </tr>\n",
       "    <tr>\n",
       "      <th>25%</th>\n",
       "      <td>1506.500000</td>\n",
       "      <td>7.000000</td>\n",
       "      <td>41.125596</td>\n",
       "      <td>11.121231</td>\n",
       "      <td>16.000000</td>\n",
       "      <td>1.000000</td>\n",
       "      <td>17.000000</td>\n",
       "      <td>139.000000</td>\n",
       "      <td>168.000000</td>\n",
       "      <td>4.000000</td>\n",
       "      <td>734.000000</td>\n",
       "      <td>98.000000</td>\n",
       "      <td>1383.50000</td>\n",
       "      <td>6.507375e+04</td>\n",
       "    </tr>\n",
       "    <tr>\n",
       "      <th>50%</th>\n",
       "      <td>3013.000000</td>\n",
       "      <td>12.000000</td>\n",
       "      <td>43.616760</td>\n",
       "      <td>12.388247</td>\n",
       "      <td>93.000000</td>\n",
       "      <td>9.000000</td>\n",
       "      <td>106.000000</td>\n",
       "      <td>743.000000</td>\n",
       "      <td>905.000000</td>\n",
       "      <td>31.000000</td>\n",
       "      <td>2840.000000</td>\n",
       "      <td>389.000000</td>\n",
       "      <td>4613.00000</td>\n",
       "      <td>1.365560e+05</td>\n",
       "    </tr>\n",
       "    <tr>\n",
       "      <th>75%</th>\n",
       "      <td>4519.500000</td>\n",
       "      <td>17.000000</td>\n",
       "      <td>45.434905</td>\n",
       "      <td>13.768136</td>\n",
       "      <td>384.500000</td>\n",
       "      <td>46.000000</td>\n",
       "      <td>434.000000</td>\n",
       "      <td>3057.000000</td>\n",
       "      <td>3735.000000</td>\n",
       "      <td>159.500000</td>\n",
       "      <td>8450.500000</td>\n",
       "      <td>1102.500000</td>\n",
       "      <td>15304.00000</td>\n",
       "      <td>3.043542e+05</td>\n",
       "    </tr>\n",
       "    <tr>\n",
       "      <th>max</th>\n",
       "      <td>6026.000000</td>\n",
       "      <td>22.000000</td>\n",
       "      <td>46.499335</td>\n",
       "      <td>16.867367</td>\n",
       "      <td>12077.000000</td>\n",
       "      <td>1381.000000</td>\n",
       "      <td>13328.000000</td>\n",
       "      <td>155066.000000</td>\n",
       "      <td>164406.000000</td>\n",
       "      <td>11489.000000</td>\n",
       "      <td>289706.000000</td>\n",
       "      <td>23024.000000</td>\n",
       "      <td>429109.00000</td>\n",
       "      <td>2.415099e+06</td>\n",
       "    </tr>\n",
       "  </tbody>\n",
       "</table>\n",
       "</div>"
      ],
      "text/plain": [
       "               SNo   RegionCode     Latitude    Longitude  \\\n",
       "count  6027.000000  6027.000000  6027.000000  6027.000000   \n",
       "mean   3013.000000    11.857143    43.046293    12.225955   \n",
       "std    1739.989368     6.274319     2.488987     2.659168   \n",
       "min       0.000000     1.000000    38.115697     7.320149   \n",
       "25%    1506.500000     7.000000    41.125596    11.121231   \n",
       "50%    3013.000000    12.000000    43.616760    12.388247   \n",
       "75%    4519.500000    17.000000    45.434905    13.768136   \n",
       "max    6026.000000    22.000000    46.499335    16.867367   \n",
       "\n",
       "       HospitalizedPatients  IntensiveCarePatients  TotalHospitalizedPatients  \\\n",
       "count           6027.000000            6027.000000                6027.000000   \n",
       "mean             509.093579              55.892318                 564.985897   \n",
       "std             1272.731157             134.957979                1403.362341   \n",
       "min                0.000000               0.000000                   0.000000   \n",
       "25%               16.000000               1.000000                  17.000000   \n",
       "50%               93.000000               9.000000                 106.000000   \n",
       "75%              384.500000              46.000000                 434.000000   \n",
       "max            12077.000000            1381.000000               13328.000000   \n",
       "\n",
       "       HomeConfinement  CurrentPositiveCases  NewPositiveCases      Recovered  \\\n",
       "count      6027.000000           6027.000000       6027.000000    6027.000000   \n",
       "mean       5722.911399           6287.897296        286.885847    9337.852829   \n",
       "std       15892.768789          16804.884786        818.450458   20551.265039   \n",
       "min           0.000000              0.000000       -229.000000       0.000000   \n",
       "25%         139.000000            168.000000          4.000000     734.000000   \n",
       "50%         743.000000            905.000000         31.000000    2840.000000   \n",
       "75%        3057.000000           3735.000000        159.500000    8450.500000   \n",
       "max      155066.000000         164406.000000      11489.000000  289706.000000   \n",
       "\n",
       "             Deaths  TotalPositiveCases  TestsPerformed  \n",
       "count   6027.000000          6027.00000    4.872000e+03  \n",
       "mean    1474.370665         17100.12361    2.600810e+05  \n",
       "std     3365.190225         36934.67627    3.339818e+05  \n",
       "min        0.000000             0.00000    3.482000e+03  \n",
       "25%       98.000000          1383.50000    6.507375e+04  \n",
       "50%      389.000000          4613.00000    1.365560e+05  \n",
       "75%     1102.500000         15304.00000    3.043542e+05  \n",
       "max    23024.000000        429109.00000    2.415099e+06  "
      ]
     },
     "execution_count": 7,
     "metadata": {},
     "output_type": "execute_result"
    }
   ],
   "source": [
    "df.describe()"
   ]
  },
  {
   "cell_type": "code",
   "execution_count": 8,
   "metadata": {},
   "outputs": [
    {
     "data": {
      "text/plain": [
       "SNo                             0\n",
       "Date                            0\n",
       "Country                         0\n",
       "RegionCode                      0\n",
       "RegionName                      0\n",
       "Latitude                        0\n",
       "Longitude                       0\n",
       "HospitalizedPatients            0\n",
       "IntensiveCarePatients           0\n",
       "TotalHospitalizedPatients       0\n",
       "HomeConfinement                 0\n",
       "CurrentPositiveCases            0\n",
       "NewPositiveCases                0\n",
       "Recovered                       0\n",
       "Deaths                          0\n",
       "TotalPositiveCases              0\n",
       "TestsPerformed               1155\n",
       "dtype: int64"
      ]
     },
     "execution_count": 8,
     "metadata": {},
     "output_type": "execute_result"
    }
   ],
   "source": [
    "df.isnull().sum()"
   ]
  },
  {
   "cell_type": "markdown",
   "metadata": {},
   "source": [
    "<h4>Relating the variables with scatterplots</h4>"
   ]
  },
  {
   "cell_type": "code",
   "execution_count": 9,
   "metadata": {},
   "outputs": [],
   "source": [
    "xvalue = df['RegionName'].unique()"
   ]
  },
  {
   "cell_type": "code",
   "execution_count": 10,
   "metadata": {},
   "outputs": [],
   "source": [
    "yvalue = df.groupby('RegionName')['HospitalizedPatients'].sum()"
   ]
  },
  {
   "cell_type": "code",
   "execution_count": 11,
   "metadata": {},
   "outputs": [],
   "source": [
    "def fun():\n",
    "    li=[]\n",
    "    for element in yvalue:\n",
    "        li.append(element)\n",
    "    return li"
   ]
  },
  {
   "cell_type": "code",
   "execution_count": 12,
   "metadata": {},
   "outputs": [],
   "source": [
    "n = fun()"
   ]
  },
  {
   "cell_type": "code",
   "execution_count": 13,
   "metadata": {},
   "outputs": [
    {
     "data": {
      "text/plain": [
       "[51685,\n",
       " 9364,\n",
       " 23890,\n",
       " 145592,\n",
       " 298742,\n",
       " 30509,\n",
       " 267260,\n",
       " 117844,\n",
       " 1019671,\n",
       " 70829,\n",
       " 3751,\n",
       " 29089,\n",
       " 29466,\n",
       " 411093,\n",
       " 100095,\n",
       " 33562,\n",
       " 100775,\n",
       " 123617,\n",
       " 24294,\n",
       " 11879,\n",
       " 165300]"
      ]
     },
     "execution_count": 13,
     "metadata": {},
     "output_type": "execute_result"
    }
   ],
   "source": [
    "n"
   ]
  },
  {
   "cell_type": "code",
   "execution_count": 14,
   "metadata": {},
   "outputs": [
    {
     "data": {
      "image/png": "[encoded data removed]",
      "text/plain": [
       "<Figure size 432x288 with 1 Axes>"
      ]
     },
     "metadata": {
      "needs_background": "light"
     },
     "output_type": "display_data"
    }
   ],
   "source": [
    "plt.plot(xvalue,n,marker='o',markerfacecolor='orange',markeredgecolor='orange')\n",
    "plt.xlim(['Sardegna','Calabria'])\n",
    "plt.xticks(rotation=90);\n",
    "plt.tight_layout()"
   ]
  },
  {
   "cell_type": "code",
   "execution_count": 15,
   "metadata": {},
   "outputs": [],
   "source": [
    "y_temp = df.groupby('RegionName')['Recovered'].sum()\n",
    "def fun():\n",
    "    li=[]\n",
    "    for record in y_temp:\n",
    "        li.append(record)\n",
    "    return li\n",
    "\n",
    "yvals = fun()\n",
    "\n"
   ]
  },
  {
   "cell_type": "code",
   "execution_count": 16,
   "metadata": {},
   "outputs": [
    {
     "data": {
      "image/png": "[encoded data removed]",
      "text/plain": [
       "<Figure size 432x288 with 1 Axes>"
      ]
     },
     "metadata": {
      "needs_background": "light"
     },
     "output_type": "display_data"
    }
   ],
   "source": [
    "plt.plot(xvalue,yvals,marker='o',markerfacecolor='orange',markeredgecolor='orange')\n",
    "plt.xlim(['Sardegna','Calabria'])\n",
    "plt.xticks(rotation=90);\n",
    "plt.tight_layout()"
   ]
  },
  {
   "cell_type": "code",
   "execution_count": null,
   "metadata": {},
   "outputs": [],
   "source": []
  },
  {
   "cell_type": "code",
   "execution_count": null,
   "metadata": {},
   "outputs": [],
   "source": []
  }
 ],
 "metadata": {
  "kernelspec": {
   "display_name": "Python 3",
   "language": "python",
   "name": "python3"
  },
  "language_info": {
   "codemirror_mode": {
    "name": "ipython",
    "version": 3
   },
   "file_extension": ".py",
   "mimetype": "text/x-python",
   "name": "python",
   "nbconvert_exporter": "python",
   "pygments_lexer": "ipython3",
   "version": "3.8.5"
  }
 },
 "nbformat": 4,
 "nbformat_minor": 4
}
